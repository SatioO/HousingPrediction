{
 "cells": [
  {
   "cell_type": "code",
   "execution_count": 150,
   "metadata": {},
   "outputs": [],
   "source": [
    "import pandas as pd\n",
    "import numpy as np\n",
    "import matplotlib.pyplot as plt"
   ]
  },
  {
   "cell_type": "code",
   "execution_count": 151,
   "metadata": {},
   "outputs": [],
   "source": [
    "train = pd.read_csv(\"./train.csv\")\n",
    "test = pd.read_csv(\"./test.csv\")"
   ]
  },
  {
   "cell_type": "code",
   "execution_count": 152,
   "metadata": {},
   "outputs": [],
   "source": [
    "X = np.array([[1, 1, 1], [2, 4, 8], [3, 9, 27]])\n",
    "y = np.array([[1,16,81]])"
   ]
  },
  {
   "cell_type": "code",
   "execution_count": 160,
   "metadata": {},
   "outputs": [],
   "source": [
    "class LinearRegression:\n",
    "    def __init__(self, alpha= 0.001, n_iters = 100):\n",
    "        self.n_iters_ = n_iters\n",
    "        self.alpha_ = alpha\n",
    "    \n",
    "    def fit(self, X, y):\n",
    "        train_size = X.shape[0]\n",
    "        # Adding bias term\n",
    "        X = np.column_stack((np.ones(train_size), X))\n",
    "        # Coeficients\n",
    "        self.coef_ = np.zeros((X.shape[1], 1))\n",
    "        cost = []\n",
    "        for epoch in range(self.n_iters_):\n",
    "            # Linear form\n",
    "            h_x = np.dot(X, self.coef_)\n",
    "            # Cost function\n",
    "            J = (1./(2 * train_size)) * np.sum(np.power((h_x - y.T), 2))\n",
    "            # Gradient descent            \n",
    "            self.coef_ = self.coef_ - self.alpha_ * ((1./train_size) *  np.transpose(X).dot(h_x - y.T))\n",
    "            cost.append(J)\n",
    "            \n",
    "        return self.coef_, cost\n",
    "    \n",
    "    def predict(self, X):\n",
    "        train_size = X.shape[0]\n",
    "        # Adding bias term\n",
    "        X = np.column_stack((np.ones(train_size), X))\n",
    "        return np.dot(X, self.coef_)"
   ]
  },
  {
   "cell_type": "code",
   "execution_count": 163,
   "metadata": {},
   "outputs": [
    {
     "data": {
      "text/plain": [
       "array([[78.42540932]])"
      ]
     },
     "execution_count": 163,
     "metadata": {},
     "output_type": "execute_result"
    }
   ],
   "source": [
    "lr = LinearRegression()\n",
    "theta, cost = lr.fit(X, y)\n",
    "lr.predict(np.array([[3, 9, 27]]))"
   ]
  },
  {
   "cell_type": "code",
   "execution_count": 164,
   "metadata": {},
   "outputs": [
    {
     "data": {
      "image/png": "[encoded data removed]",
      "text/plain": [
       "<Figure size 432x288 with 1 Axes>"
      ]
     },
     "metadata": {
      "needs_background": "light"
     },
     "output_type": "display_data"
    }
   ],
   "source": [
    "plt.plot(cost)\n",
    "plt.show()"
   ]
  },
  {
   "cell_type": "code",
   "execution_count": null,
   "metadata": {},
   "outputs": [],
   "source": []
  },
  {
   "cell_type": "code",
   "execution_count": null,
   "metadata": {},
   "outputs": [],
   "source": []
  }
 ],
 "metadata": {
  "kernelspec": {
   "display_name": "Python 3",
   "language": "python",
   "name": "python3"
  },
  "language_info": {
   "codemirror_mode": {
    "name": "ipython",
    "version": 3
   },
   "file_extension": ".py",
   "mimetype": "text/x-python",
   "name": "python",
   "nbconvert_exporter": "python",
   "pygments_lexer": "ipython3",
   "version": "3.7.2"
  }
 },
 "nbformat": 4,
 "nbformat_minor": 2
}
