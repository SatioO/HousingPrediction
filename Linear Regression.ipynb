{
 "cells": [
  {
   "cell_type": "code",
   "execution_count": 1,
   "metadata": {},
   "outputs": [],
   "source": [
    "import pandas as pd\n",
    "import numpy as np\n",
    "import matplotlib.pyplot as plt\n",
    "import scipy.io as io"
   ]
  },
  {
   "cell_type": "code",
   "execution_count": 2,
   "metadata": {},
   "outputs": [],
   "source": [
    "# Create linear dataset\n",
    "X = np.arange(100)\n",
    "random = np.random.uniform(-10,10, size=(100,))\n",
    "y = .4 * X +3 + random\n",
    "X = np.reshape(X, (X.shape[0], 1))\n",
    "y = np.reshape(y, (y.shape[0], 1))\n",
    "linear = {\"X\": X, \"y\": y}\n",
    "\n",
    "def f(x, a, b, c, d):\n",
    "    return a / (1. + np.exp(-c * (x - d))) + b\n",
    "\n",
    "a, c = np.random.exponential(size=2)\n",
    "b, d = np.random.randn(2)\n",
    "n = 100\n",
    "X = np.linspace(-10., 10., n)\n",
    "y = f(X, a, b, c, d)\n",
    "y = y + a * .2 * np.random.randn(n)\n",
    "\n",
    "# create non-linear datasets\n",
    "nonlinear = io.loadmat(\"./ex5data1.mat\")"
   ]
  },
  {
   "cell_type": "code",
   "execution_count": 3,
   "metadata": {},
   "outputs": [],
   "source": [
    "# # Generating data\n",
    "# X = np.random.randn(100,1)\n",
    "# c = np.random.uniform(-10,10,(100,))\n",
    "# # adding another non-linear column\n",
    "# X = np.hstack((X, X*X))\n",
    "\n",
    "# y = (4*X[:,1] + c)\n",
    "\n",
    "# # X = np.reshape(X, (X.shape[0], 1))\n",
    "# y = np.reshape(y, (y.shape[0], 1))\n",
    "# random = np.random.uniform(-10,10, size=(100,))\n",
    "# nonlinear = {\"X\": X, \"y\": y}"
   ]
  },
  {
   "cell_type": "code",
   "execution_count": 4,
   "metadata": {},
   "outputs": [
    {
     "name": "stdout",
     "output_type": "stream",
     "text": [
      "Shape of linear input (100, 1) (100, 1)\n",
      "Shape of non-linear input (12, 1) (12, 1)\n"
     ]
    }
   ],
   "source": [
    "print(\"Shape of linear input\", linear[\"X\"].shape, linear[\"y\"].shape)\n",
    "print(\"Shape of non-linear input\", nonlinear[\"X\"].shape, nonlinear[\"y\"].shape)"
   ]
  },
  {
   "cell_type": "code",
   "execution_count": 5,
   "metadata": {
    "scrolled": true
   },
   "outputs": [
    {
     "data": {
      "image/png": "[encoded data removed]",
      "text/plain": [
       "<Figure size 432x288 with 1 Axes>"
      ]
     },
     "metadata": {
      "needs_background": "light"
     },
     "output_type": "display_data"
    }
   ],
   "source": [
    "plt.figure(figsize=(6, 4))\n",
    "plt.scatter(linear[\"X\"], linear[\"y\"])\n",
    "plt.show()"
   ]
  },
  {
   "cell_type": "code",
   "execution_count": 6,
   "metadata": {},
   "outputs": [
    {
     "data": {
      "image/png": "[encoded data removed]",
      "text/plain": [
       "<Figure size 432x288 with 1 Axes>"
      ]
     },
     "metadata": {
      "needs_background": "light"
     },
     "output_type": "display_data"
    }
   ],
   "source": [
    "plt.figure(figsize=(6, 4))\n",
    "plt.scatter(nonlinear[\"X\"], nonlinear[\"y\"])\n",
    "plt.show()"
   ]
  },
  {
   "cell_type": "code",
   "execution_count": 7,
   "metadata": {},
   "outputs": [],
   "source": [
    "class LinearRegression:\n",
    "    def __init__(self, alpha= 0.0001, n_iters = 100, beta = 0):\n",
    "        self.n_iters_ = n_iters\n",
    "        self.alpha_ = alpha\n",
    "        self.beta_ = beta\n",
    "    \n",
    "    def fit(self, X, y):\n",
    "        m = X.shape[0]\n",
    "        \n",
    "        # Adding bias term\n",
    "        X = np.column_stack((np.ones((m, 1)), X))\n",
    "        \n",
    "        # Coeficients\n",
    "        self.coef_ = np.ones((X.shape[1], 1))\n",
    "          \n",
    "        cost = []\n",
    "        # Linear form\n",
    "        h_x = np.dot(X, self.coef_)\n",
    "            \n",
    "        for epoch in range(self.n_iters_):\n",
    "            # Linear form\n",
    "            h_x = np.dot(X, self.coef_)\n",
    "            \n",
    "            # calculating regularized cost\n",
    "            reg = (float(self.beta_) / (2 * m)) * np.sum(np.power((self.coef_[1:self.coef_.shape[0]]), 2))\n",
    "            \n",
    "            # Cost function\n",
    "            J = (1./(2 * m)) * np.sum(np.power((h_x - y), 2)) + reg\n",
    "            \n",
    "            # Gradient descent\n",
    "            self.coef_ = self.coef_ - self.alpha_ * ((1./m) *  np.dot(X.T, h_x - y)) + \\\n",
    "                        (float(self.beta_) / m) * self.coef_\n",
    "            # unregularize first gradient\n",
    "            self.coef_[0] = ((1./m) *  np.dot(X.T, h_x - y))[0]\n",
    "            cost.append(J)\n",
    "            \n",
    "        return self.coef_, cost\n",
    "    \n",
    "    def predict(self, X):\n",
    "        m = X.shape[0]\n",
    "        # Adding bias term\n",
    "        X = np.column_stack((np.ones(m), X))\n",
    "        return np.dot(X, self.coef_)"
   ]
  },
  {
   "cell_type": "code",
   "execution_count": 8,
   "metadata": {},
   "outputs": [],
   "source": [
    "lr = LinearRegression()\n",
    "theta, cost = lr.fit(linear[\"X\"], linear[\"y\"])\n",
    "y_pred = lr.predict(linear[\"X\"])"
   ]
  },
  {
   "cell_type": "code",
   "execution_count": 9,
   "metadata": {},
   "outputs": [
    {
     "data": {
      "text/plain": [
       "array([[-0.81948526],\n",
       "       [ 0.46840313]])"
      ]
     },
     "execution_count": 9,
     "metadata": {},
     "output_type": "execute_result"
    }
   ],
   "source": [
    "theta"
   ]
  },
  {
   "cell_type": "code",
   "execution_count": 10,
   "metadata": {},
   "outputs": [
    {
     "data": {
      "image/png": "[encoded data removed]",
      "text/plain": [
       "<Figure size 432x288 with 1 Axes>"
      ]
     },
     "metadata": {
      "needs_background": "light"
     },
     "output_type": "display_data"
    }
   ],
   "source": [
    "plt.plot(cost)\n",
    "plt.show()"
   ]
  },
  {
   "cell_type": "code",
   "execution_count": 11,
   "metadata": {},
   "outputs": [
    {
     "data": {
      "image/png": "[encoded data removed]",
      "text/plain": [
       "<Figure size 432x288 with 1 Axes>"
      ]
     },
     "metadata": {
      "needs_background": "light"
     },
     "output_type": "display_data"
    }
   ],
   "source": [
    "# plotting linear residuals vs predicted\n",
    "plt.plot()\n",
    "plt.scatter(y_pred, (linear[\"y\"] - y_pred))\n",
    "plt.show()"
   ]
  },
  {
   "cell_type": "code",
   "execution_count": 12,
   "metadata": {},
   "outputs": [],
   "source": [
    "theta, cost = lr.fit(nonlinear[\"X\"], nonlinear[\"y\"])"
   ]
  },
  {
   "cell_type": "code",
   "execution_count": 13,
   "metadata": {},
   "outputs": [],
   "source": [
    "y_pred = lr.predict(nonlinear[\"X\"])"
   ]
  },
  {
   "cell_type": "code",
   "execution_count": 14,
   "metadata": {},
   "outputs": [
    {
     "data": {
      "image/png": "[encoded data removed]",
      "text/plain": [
       "<Figure size 432x288 with 1 Axes>"
      ]
     },
     "metadata": {
      "needs_background": "light"
     },
     "output_type": "display_data"
    }
   ],
   "source": [
    "plt.plot(cost)\n",
    "plt.show()"
   ]
  },
  {
   "cell_type": "code",
   "execution_count": 15,
   "metadata": {},
   "outputs": [
    {
     "data": {
      "image/png": "[encoded data removed]",
      "text/plain": [
       "<Figure size 432x288 with 1 Axes>"
      ]
     },
     "metadata": {
      "needs_background": "light"
     },
     "output_type": "display_data"
    }
   ],
   "source": [
    "# plotting residuals vs predicted\n",
    "plt.plot()\n",
    "plt.scatter(y_pred, (nonlinear[\"y\"] - y_pred))\n",
    "plt.show()"
   ]
  },
  {
   "cell_type": "code",
   "execution_count": null,
   "metadata": {},
   "outputs": [],
   "source": []
  },
  {
   "cell_type": "code",
   "execution_count": null,
   "metadata": {},
   "outputs": [],
   "source": []
  },
  {
   "cell_type": "code",
   "execution_count": null,
   "metadata": {},
   "outputs": [],
   "source": []
  }
 ],
 "metadata": {
  "kernelspec": {
   "display_name": "Python 3",
   "language": "python",
   "name": "python3"
  },
  "language_info": {
   "codemirror_mode": {
    "name": "ipython",
    "version": 3
   },
   "file_extension": ".py",
   "mimetype": "text/x-python",
   "name": "python",
   "nbconvert_exporter": "python",
   "pygments_lexer": "ipython3",
   "version": "3.7.2"
  }
 },
 "nbformat": 4,
 "nbformat_minor": 2
}
